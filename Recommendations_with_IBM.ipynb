{
 "cells": [
  {
   "cell_type": "markdown",
   "metadata": {},
   "source": [
    "# Recommendations with IBM\n",
    "\n",
    "\n",
    "## Table of Contents\n",
    "\n",
    "I. [Exploratory Data Analysis](#Exploratory-Data-Analysis)<br>\n",
    "II. [Rank Based Recommendations](#Rank)<br>\n",
    "III. [User-User Based Collaborative Filtering](#User-User)<br>\n",
    "IV. [Content Based Recommendations (EXTRA - NOT REQUIRED)](#Content-Recs)<br>\n",
    "V. [Matrix Factorization](#Matrix-Fact)<br>\n",
    "VI. [Results & Concluding](#conclusions)"
   ]
  },
  {
   "cell_type": "code",
   "execution_count": 306,
   "metadata": {},
   "outputs": [
    {
     "data": {
      "text/plain": "   article_id                                              title  \\\n0      1430.0  using pixiedust for fast, flexible, and easier...   \n1      1314.0       healthcare python streaming application demo   \n2      1429.0         use deep learning for image classification   \n3      1338.0          ml optimization using cognitive assistant   \n4      1276.0          deploy your python model as a restful api   \n\n                                      email  \n0  ef5f11f77ba020cd36e1105a00ab868bbdbf7fe7  \n1  083cbdfa93c8444beaa4c5f5e0f5f9198e4f9e0b  \n2  b96a4f2e92d8572034b1e9b28f9ac673765cd074  \n3  06485706b34a5c9bf2a0ecdac41daf7e7654ceb7  \n4  f01220c46fc92c6e6b161b1849de11faacd7ccb2  ",
      "text/html": "<div>\n<style scoped>\n    .dataframe tbody tr th:only-of-type {\n        vertical-align: middle;\n    }\n\n    .dataframe tbody tr th {\n        vertical-align: top;\n    }\n\n    .dataframe thead th {\n        text-align: right;\n    }\n</style>\n<table border=\"1\" class=\"dataframe\">\n  <thead>\n    <tr style=\"text-align: right;\">\n      <th></th>\n      <th>article_id</th>\n      <th>title</th>\n      <th>email</th>\n    </tr>\n  </thead>\n  <tbody>\n    <tr>\n      <th>0</th>\n      <td>1430.0</td>\n      <td>using pixiedust for fast, flexible, and easier...</td>\n      <td>ef5f11f77ba020cd36e1105a00ab868bbdbf7fe7</td>\n    </tr>\n    <tr>\n      <th>1</th>\n      <td>1314.0</td>\n      <td>healthcare python streaming application demo</td>\n      <td>083cbdfa93c8444beaa4c5f5e0f5f9198e4f9e0b</td>\n    </tr>\n    <tr>\n      <th>2</th>\n      <td>1429.0</td>\n      <td>use deep learning for image classification</td>\n      <td>b96a4f2e92d8572034b1e9b28f9ac673765cd074</td>\n    </tr>\n    <tr>\n      <th>3</th>\n      <td>1338.0</td>\n      <td>ml optimization using cognitive assistant</td>\n      <td>06485706b34a5c9bf2a0ecdac41daf7e7654ceb7</td>\n    </tr>\n    <tr>\n      <th>4</th>\n      <td>1276.0</td>\n      <td>deploy your python model as a restful api</td>\n      <td>f01220c46fc92c6e6b161b1849de11faacd7ccb2</td>\n    </tr>\n  </tbody>\n</table>\n</div>"
     },
     "execution_count": 306,
     "metadata": {},
     "output_type": "execute_result"
    }
   ],
   "source": [
    "import matplotlib.pyplot as plt\n",
    "import numpy as np\n",
    "import pandas as pd\n",
    "\n",
    "import project_tests as t\n",
    "\n",
    "%matplotlib inline\n",
    "\n",
    "df = pd.read_csv('data/user-item-interactions.csv')\n",
    "df_content = pd.read_csv('data/articles_community.csv')\n",
    "del df['Unnamed: 0']\n",
    "del df_content['Unnamed: 0']\n",
    "\n",
    "# Show df to get an idea of the data\n",
    "df.head()"
   ]
  },
  {
   "cell_type": "code",
   "execution_count": 307,
   "metadata": {},
   "outputs": [
    {
     "data": {
      "text/plain": "                                            doc_body  \\\n0  Skip navigation Sign in SearchLoading...\\r\\n\\r...   \n1  No Free Hunch Navigation * kaggle.com\\r\\n\\r\\n ...   \n2  ☰ * Login\\r\\n * Sign Up\\r\\n\\r\\n * Learning Pat...   \n3  DATALAYER: HIGH THROUGHPUT, LOW LATENCY AT SCA...   \n4  Skip navigation Sign in SearchLoading...\\r\\n\\r...   \n\n                                     doc_description  \\\n0  Detect bad readings in real time using Python ...   \n1  See the forest, see the trees. Here lies the c...   \n2  Here’s this week’s news in Data Science and Bi...   \n3  Learn how distributed DBs solve the problem of...   \n4  This video demonstrates the power of IBM DataS...   \n\n                                       doc_full_name doc_status  article_id  \n0  Detect Malfunctioning IoT Sensors with Streami...       Live           0  \n1  Communicating data science: A guide to present...       Live           1  \n2         This Week in Data Science (April 18, 2017)       Live           2  \n3  DataLayer Conference: Boost the performance of...       Live           3  \n4      Analyze NY Restaurant data using Spark in DSX       Live           4  ",
      "text/html": "<div>\n<style scoped>\n    .dataframe tbody tr th:only-of-type {\n        vertical-align: middle;\n    }\n\n    .dataframe tbody tr th {\n        vertical-align: top;\n    }\n\n    .dataframe thead th {\n        text-align: right;\n    }\n</style>\n<table border=\"1\" class=\"dataframe\">\n  <thead>\n    <tr style=\"text-align: right;\">\n      <th></th>\n      <th>doc_body</th>\n      <th>doc_description</th>\n      <th>doc_full_name</th>\n      <th>doc_status</th>\n      <th>article_id</th>\n    </tr>\n  </thead>\n  <tbody>\n    <tr>\n      <th>0</th>\n      <td>Skip navigation Sign in SearchLoading...\\r\\n\\r...</td>\n      <td>Detect bad readings in real time using Python ...</td>\n      <td>Detect Malfunctioning IoT Sensors with Streami...</td>\n      <td>Live</td>\n      <td>0</td>\n    </tr>\n    <tr>\n      <th>1</th>\n      <td>No Free Hunch Navigation * kaggle.com\\r\\n\\r\\n ...</td>\n      <td>See the forest, see the trees. Here lies the c...</td>\n      <td>Communicating data science: A guide to present...</td>\n      <td>Live</td>\n      <td>1</td>\n    </tr>\n    <tr>\n      <th>2</th>\n      <td>☰ * Login\\r\\n * Sign Up\\r\\n\\r\\n * Learning Pat...</td>\n      <td>Here’s this week’s news in Data Science and Bi...</td>\n      <td>This Week in Data Science (April 18, 2017)</td>\n      <td>Live</td>\n      <td>2</td>\n    </tr>\n    <tr>\n      <th>3</th>\n      <td>DATALAYER: HIGH THROUGHPUT, LOW LATENCY AT SCA...</td>\n      <td>Learn how distributed DBs solve the problem of...</td>\n      <td>DataLayer Conference: Boost the performance of...</td>\n      <td>Live</td>\n      <td>3</td>\n    </tr>\n    <tr>\n      <th>4</th>\n      <td>Skip navigation Sign in SearchLoading...\\r\\n\\r...</td>\n      <td>This video demonstrates the power of IBM DataS...</td>\n      <td>Analyze NY Restaurant data using Spark in DSX</td>\n      <td>Live</td>\n      <td>4</td>\n    </tr>\n  </tbody>\n</table>\n</div>"
     },
     "execution_count": 307,
     "metadata": {},
     "output_type": "execute_result"
    }
   ],
   "source": [
    "# Show df_content to get an idea of the data\n",
    "df_content.head()"
   ]
  },
  {
   "cell_type": "markdown",
   "metadata": {},
   "source": [
    "<a class=\"anchor\" id=\"Exploratory-Data-Analysis\"></a>\n",
    "### Part I : Exploratory Data Analysis\n",
    "\n",
    "Use the dictionary and cells below to provide some insight into the descriptive\n",
    "statistics of the data.\n",
    "\n",
    "`1.` What is the distribution of how many articles a user interacts with in the\n",
    "dataset?  Provide a visual and descriptive statistics to assist with giving a\n",
    "look at the number of times each user interacts with an article."
   ]
  },
  {
   "cell_type": "code",
   "execution_count": 308,
   "metadata": {
    "collapsed": true
   },
   "outputs": [
    {
     "data": {
      "text/plain": "        article_id\ncount  5148.000000\nmean      8.930847\nstd      16.802267\nmin       1.000000\n25%       1.000000\n50%       3.000000\n75%       9.000000\nmax     364.000000",
      "text/html": "<div>\n<style scoped>\n    .dataframe tbody tr th:only-of-type {\n        vertical-align: middle;\n    }\n\n    .dataframe tbody tr th {\n        vertical-align: top;\n    }\n\n    .dataframe thead th {\n        text-align: right;\n    }\n</style>\n<table border=\"1\" class=\"dataframe\">\n  <thead>\n    <tr style=\"text-align: right;\">\n      <th></th>\n      <th>article_id</th>\n    </tr>\n  </thead>\n  <tbody>\n    <tr>\n      <th>count</th>\n      <td>5148.000000</td>\n    </tr>\n    <tr>\n      <th>mean</th>\n      <td>8.930847</td>\n    </tr>\n    <tr>\n      <th>std</th>\n      <td>16.802267</td>\n    </tr>\n    <tr>\n      <th>min</th>\n      <td>1.000000</td>\n    </tr>\n    <tr>\n      <th>25%</th>\n      <td>1.000000</td>\n    </tr>\n    <tr>\n      <th>50%</th>\n      <td>3.000000</td>\n    </tr>\n    <tr>\n      <th>75%</th>\n      <td>9.000000</td>\n    </tr>\n    <tr>\n      <th>max</th>\n      <td>364.000000</td>\n    </tr>\n  </tbody>\n</table>\n</div>"
     },
     "execution_count": 308,
     "metadata": {},
     "output_type": "execute_result"
    }
   ],
   "source": [
    "df[['email','article_id']].groupby(['email']).count().describe()"
   ]
  },
  {
   "cell_type": "code",
   "execution_count": 309,
   "metadata": {
    "collapsed": true
   },
   "outputs": [
    {
     "data": {
      "text/plain": "email\n0000b6387a0366322d7fbfc6434af145adf7fed1    13\n001055fc0bb67f71e8fa17002342b256a30254cd     4\n00148e4911c7e04eeff8def7bbbdaf1c59c2c621     3\n001a852ecbd6cc12ab77a785efa137b2646505fe     6\n001fc95b90da5c3cb12c501d201a915e4f093290     2\nName: article_id, dtype: int64"
     },
     "execution_count": 309,
     "metadata": {},
     "output_type": "execute_result"
    }
   ],
   "source": [
    "df[['email','article_id']].groupby(['email']).count()['article_id'].head(5)"
   ]
  },
  {
   "cell_type": "code",
   "execution_count": 310,
   "metadata": {
    "collapsed": true
   },
   "outputs": [
    {
     "data": {
      "text/plain": "<Figure size 1080x720 with 1 Axes>",
      "image/png": "[encoded data removed]"
     },
     "metadata": {
      "needs_background": "light"
     },
     "output_type": "display_data"
    }
   ],
   "source": [
    "hist_bins = [0, 1, 3, 7, 14, 20, 30, 50, 100, 150, 200, 500]\n",
    "hist_ticks = np.array([0.5, 1, 3, 7, 14, 20, 30, 50, 100, 150, 200, 500, 1000])\n",
    "plt.figure(figsize = (15,10))\n",
    "plt.hist(df[['email','article_id']]\n",
    "         .groupby(['email'])\n",
    "         .count()['article_id'], bins = hist_bins, ec = 'black')\n",
    "plt.yscale('linear')\n",
    "plt.xscale('log')\n",
    "plt.xticks(hist_ticks,hist_ticks.astype(str))\n",
    "plt.title('Distribution of user interactions - log scale')\n",
    "plt.xlabel('Number of article views per user - log scale')\n",
    "plt.ylabel('User count - log scale')\n",
    "plt.show()"
   ]
  },
  {
   "cell_type": "code",
   "execution_count": 311,
   "outputs": [
    {
     "data": {
      "text/plain": "3.0"
     },
     "execution_count": 311,
     "metadata": {},
     "output_type": "execute_result"
    }
   ],
   "source": [
    "articles_per_user = df.groupby('email')['article_id'].count()\n",
    "articles_per_user.median()"
   ],
   "metadata": {
    "collapsed": false,
    "pycharm": {
     "name": "#%%\n"
    }
   }
  },
  {
   "cell_type": "code",
   "execution_count": 312,
   "outputs": [
    {
     "data": {
      "text/plain": "364"
     },
     "execution_count": 312,
     "metadata": {},
     "output_type": "execute_result"
    }
   ],
   "source": [
    "articles_per_user.max()"
   ],
   "metadata": {
    "collapsed": false,
    "pycharm": {
     "name": "#%%\n"
    }
   }
  },
  {
   "cell_type": "code",
   "execution_count": 313,
   "metadata": {
    "pycharm": {
     "name": "#%%\n"
    }
   },
   "outputs": [],
   "source": [
    "median_val = 3 # 50% of individuals interact with ____ number of articles or\n",
    "# fewer.\n",
    "max_views_by_user = 364 # The maximum number of user-article interactions by\n",
    "# any 1 user is ______."
   ]
  },
  {
   "cell_type": "markdown",
   "metadata": {},
   "source": [
    "`2.` Explore and remove duplicate articles from the **df_content** dataframe.  "
   ]
  },
  {
   "cell_type": "code",
   "execution_count": 314,
   "metadata": {
    "collapsed": true
   },
   "outputs": [
    {
     "name": "stdout",
     "output_type": "stream",
     "text": [
      "Duplicated article IDs: [ 50 221 398 577 232]\n",
      "Duplicated article names: ['Graph-based machine learning'\n",
      " 'How smart catalogs can turn the big data flood into an ocean of opportunity'\n",
      " 'Using Apache Spark as a parallel processing framework for accessing REST based data services'\n",
      " 'Use the Primary Index'\n",
      " 'Self-service data preparation with IBM Data Refinery']\n"
     ]
    }
   ],
   "source": [
    "# Find and explore duplicate articles\n",
    "is_duplicate = df_content.duplicated(subset = ['article_id'])\n",
    "duplicated_articles_id = df_content['article_id'][is_duplicate]\n",
    "duplicated_articles_name = df_content['doc_full_name'][is_duplicate]\n",
    "print(f'Duplicated article IDs: {duplicated_articles_id.values}')\n",
    "print(f'Duplicated article names: {duplicated_articles_name.values}')"
   ]
  },
  {
   "cell_type": "code",
   "execution_count": 315,
   "metadata": {
    "collapsed": true
   },
   "outputs": [
    {
     "name": "stdout",
     "output_type": "stream",
     "text": [
      "Number of sample before removing duplicates: 1056\n",
      "Number of sample after removing duplicates: 1051\n"
     ]
    }
   ],
   "source": [
    "# Remove any rows that have the same article_id - only keep the first\n",
    "print(f'Number of sample before removing duplicates: {df_content.shape[0]}')\n",
    "df_content = df_content.drop_duplicates(subset = ['article_id'], keep = 'first')\n",
    "print(f'Number of sample after removing duplicates: {df_content.shape[0]}')"
   ]
  },
  {
   "cell_type": "markdown",
   "metadata": {},
   "source": [
    "`3.` Use the cells below to find:\n",
    "\n",
    "**a.** The number of unique articles that have an interaction with a user.  \n",
    "**b.** The number of unique articles in the dataset (whether they have any\n",
    "interactions or not).<br>\n",
    "**c.** The number of unique users in the dataset. (excluding null values) <br>\n",
    "**d.** The number of user-article interactions in the dataset."
   ]
  },
  {
   "cell_type": "code",
   "execution_count": 316,
   "metadata": {},
   "outputs": [
    {
     "name": "stdout",
     "output_type": "stream",
     "text": [
      "Number of unique articles that have at least one interaction: 714\n",
      "Number of unique articles on the IBM platform: 1051\n",
      "Number of unique users: 5149\n",
      "Number of interactions: 45993\n"
     ]
    }
   ],
   "source": [
    "print(f'Number of unique articles that have at least one interaction: '\n",
    "      f'{len(df[\"article_id\"].unique())}' )\n",
    "print(f'Number of unique articles on the IBM platform: '\n",
    "      f'{len(df_content[\"article_id\"].unique())}' )\n",
    "print(f'Number of unique users: {len(df[\"email\"].unique())}' )\n",
    "print(f'Number of interactions: {df.shape[0]}' )"
   ]
  },
  {
   "cell_type": "code",
   "execution_count": 317,
   "metadata": {
    "collapsed": true
   },
   "outputs": [],
   "source": [
    "unique_articles = 714 # The number of unique articles that have at least one\n",
    "# interaction\n",
    "total_articles = 1051 # The number of unique articles on the IBM platform\n",
    "unique_users = 5148 # The number of unique users\n",
    "user_article_interactions = 45993 # The number of user-article interactions"
   ]
  },
  {
   "cell_type": "markdown",
   "metadata": {},
   "source": [
    "`4.` Use the cells below to find the most viewed **article_id**, as well as how\n",
    "often it was viewed.  After talking to the company leaders, the `email_mapper`\n",
    "function was deemed a reasonable way to map users to ids.  There were a small\n",
    "number of null values, and it was found that all of these null values likely\n",
    "belonged to a single user (which is how they are stored using the function\n",
    "below)."
   ]
  },
  {
   "cell_type": "code",
   "execution_count": 318,
   "metadata": {
    "collapsed": true
   },
   "outputs": [
    {
     "data": {
      "text/plain": "            title  email\narticle_id              \n1429.0        937    937\n1330.0        927    927\n1431.0        671    671\n1427.0        643    643\n1364.0        627    627\n1314.0        614    614\n1293.0        572    572\n1170.0        565    565\n1162.0        512    512\n1304.0        483    483",
      "text/html": "<div>\n<style scoped>\n    .dataframe tbody tr th:only-of-type {\n        vertical-align: middle;\n    }\n\n    .dataframe tbody tr th {\n        vertical-align: top;\n    }\n\n    .dataframe thead th {\n        text-align: right;\n    }\n</style>\n<table border=\"1\" class=\"dataframe\">\n  <thead>\n    <tr style=\"text-align: right;\">\n      <th></th>\n      <th>title</th>\n      <th>email</th>\n    </tr>\n    <tr>\n      <th>article_id</th>\n      <th></th>\n      <th></th>\n    </tr>\n  </thead>\n  <tbody>\n    <tr>\n      <th>1429.0</th>\n      <td>937</td>\n      <td>937</td>\n    </tr>\n    <tr>\n      <th>1330.0</th>\n      <td>927</td>\n      <td>927</td>\n    </tr>\n    <tr>\n      <th>1431.0</th>\n      <td>671</td>\n      <td>671</td>\n    </tr>\n    <tr>\n      <th>1427.0</th>\n      <td>643</td>\n      <td>643</td>\n    </tr>\n    <tr>\n      <th>1364.0</th>\n      <td>627</td>\n      <td>627</td>\n    </tr>\n    <tr>\n      <th>1314.0</th>\n      <td>614</td>\n      <td>614</td>\n    </tr>\n    <tr>\n      <th>1293.0</th>\n      <td>572</td>\n      <td>572</td>\n    </tr>\n    <tr>\n      <th>1170.0</th>\n      <td>565</td>\n      <td>565</td>\n    </tr>\n    <tr>\n      <th>1162.0</th>\n      <td>512</td>\n      <td>512</td>\n    </tr>\n    <tr>\n      <th>1304.0</th>\n      <td>483</td>\n      <td>483</td>\n    </tr>\n  </tbody>\n</table>\n</div>"
     },
     "execution_count": 318,
     "metadata": {},
     "output_type": "execute_result"
    }
   ],
   "source": [
    "df.groupby(['article_id'])\\\n",
    "    .count().sort_values(['title'], ascending = False).head(10)"
   ]
  },
  {
   "cell_type": "code",
   "execution_count": 319,
   "metadata": {
    "collapsed": true
   },
   "outputs": [],
   "source": [
    "most_viewed_article_id = '1429.0' # The most viewed article in the dataset as a\n",
    "# string with one value following the decimal\n",
    "\n",
    "max_views = 937 # The most viewed article in the dataset was viewed how many\n",
    "# times?"
   ]
  },
  {
   "cell_type": "code",
   "execution_count": 320,
   "metadata": {
    "collapsed": true
   },
   "outputs": [
    {
     "data": {
      "text/plain": "   article_id                                              title  user_id\n0      1430.0  using pixiedust for fast, flexible, and easier...        1\n1      1314.0       healthcare python streaming application demo        2\n2      1429.0         use deep learning for image classification        3\n3      1338.0          ml optimization using cognitive assistant        4\n4      1276.0          deploy your python model as a restful api        5",
      "text/html": "<div>\n<style scoped>\n    .dataframe tbody tr th:only-of-type {\n        vertical-align: middle;\n    }\n\n    .dataframe tbody tr th {\n        vertical-align: top;\n    }\n\n    .dataframe thead th {\n        text-align: right;\n    }\n</style>\n<table border=\"1\" class=\"dataframe\">\n  <thead>\n    <tr style=\"text-align: right;\">\n      <th></th>\n      <th>article_id</th>\n      <th>title</th>\n      <th>user_id</th>\n    </tr>\n  </thead>\n  <tbody>\n    <tr>\n      <th>0</th>\n      <td>1430.0</td>\n      <td>using pixiedust for fast, flexible, and easier...</td>\n      <td>1</td>\n    </tr>\n    <tr>\n      <th>1</th>\n      <td>1314.0</td>\n      <td>healthcare python streaming application demo</td>\n      <td>2</td>\n    </tr>\n    <tr>\n      <th>2</th>\n      <td>1429.0</td>\n      <td>use deep learning for image classification</td>\n      <td>3</td>\n    </tr>\n    <tr>\n      <th>3</th>\n      <td>1338.0</td>\n      <td>ml optimization using cognitive assistant</td>\n      <td>4</td>\n    </tr>\n    <tr>\n      <th>4</th>\n      <td>1276.0</td>\n      <td>deploy your python model as a restful api</td>\n      <td>5</td>\n    </tr>\n  </tbody>\n</table>\n</div>"
     },
     "execution_count": 320,
     "metadata": {},
     "output_type": "execute_result"
    }
   ],
   "source": [
    "## No need to change the code here - this will be helpful for later parts of\n",
    "# the notebook\n",
    "# Run this cell to map the user email to a user_id column and remove the email\n",
    "# column\n",
    "\n",
    "def email_mapper():\n",
    "    coded_dict = dict()\n",
    "    cter = 1\n",
    "    email_encoded = []\n",
    "    \n",
    "    for val in df['email']:\n",
    "        if val not in coded_dict:\n",
    "            coded_dict[val] = cter\n",
    "            cter+=1\n",
    "        \n",
    "        email_encoded.append(coded_dict[val])\n",
    "    return email_encoded\n",
    "\n",
    "email_encoded = email_mapper()\n",
    "del df['email']\n",
    "df['user_id'] = email_encoded\n",
    "\n",
    "# show header\n",
    "df.head()"
   ]
  },
  {
   "cell_type": "code",
   "execution_count": 321,
   "metadata": {},
   "outputs": [
    {
     "name": "stdout",
     "output_type": "stream",
     "text": [
      "It looks like you have everything right here! Nice job!\n"
     ]
    }
   ],
   "source": [
    "## If you stored all your results in the variable names above, \n",
    "## you shouldn't need to change anything in this cell\n",
    "\n",
    "sol_1_dict = {\n",
    "    '`50% of individuals have _____ or fewer interactions.`': median_val,\n",
    "    '`The total number of user-article interactions in the dataset is ______.`'\n",
    "    :user_article_interactions,\n",
    "    '`The maximum number of user-article interactions by any 1 user is ______.`'\n",
    "    : max_views_by_user,\n",
    "    '`The most viewed article in the dataset was viewed _____ times.`'\n",
    "    : max_views,\n",
    "    '`The article_id of the most viewed article is ______.`'\n",
    "    : most_viewed_article_id,\n",
    "    '`The number of unique articles that have at least 1 rating ______.`'\n",
    "    : unique_articles,\n",
    "    '`The number of unique users in the dataset is ______`': unique_users,\n",
    "    '`The number of unique articles on the IBM platform`': total_articles\n",
    "}\n",
    "\n",
    "# Test your dictionary against the solution\n",
    "t.sol_1_test(sol_1_dict)"
   ]
  },
  {
   "cell_type": "markdown",
   "metadata": {},
   "source": [
    "<a class=\"anchor\" id=\"Rank\"></a>\n",
    "### Part II: Rank-Based Recommendations\n",
    "\n",
    "Unlike in the earlier lessons, we don't actually have ratings for whether a user\n",
    " liked an article or not.  We only know that a user has interacted with an\n",
    " article.  In these cases, the popularity of an article can really only be\n",
    " based on how often an article was interacted with.\n",
    "\n",
    "`1.` Fill in the function below to return the **n** top articles ordered with\n",
    "most interactions as the top. Test your function using the tests below."
   ]
  },
  {
   "cell_type": "code",
   "execution_count": 322,
   "metadata": {
    "collapsed": true
   },
   "outputs": [],
   "source": [
    "def get_top_articles(n, df = df):\n",
    "    \"\"\"\n",
    "    This function returns a list of top number of articles. Number of\n",
    "    articles is passed as an argument.\n",
    "\n",
    "    Args:\n",
    "        n (int): the number of top articles to return\n",
    "        df (pd.Dataframe): df as defined at the top of the notebook\n",
    "\n",
    "    Returns:\n",
    "        top_articles (list): A list of the top 'n' article titles\n",
    "    \"\"\"\n",
    "    #df = df.drop_duplicates(subset = 'user_id')\n",
    "    df_top_n = df.groupby(['article_id'])\\\n",
    "        .count().sort_values(['title'], ascending = False).head(n)\n",
    "    top_articles_idx = df_top_n.index\n",
    "\n",
    "    #top_articles = list(df.loc[top_articles_idx.isin(df['article_id']),:]['title'].values)\n",
    "\n",
    "    top_articles = list(df.loc[df['article_id'].isin(top_articles_idx),:]\n",
    "                        ['title'].unique())\n",
    "\n",
    "    return top_articles\n",
    "\n",
    "def get_top_article_ids(n, df = df):\n",
    "    \"\"\"\n",
    "    This function returns a list of ids of top number of articles. The number\n",
    "     is passed as an argument.\n",
    "\n",
    "    Args:\n",
    "        n (int): the number of top articles to return\n",
    "        df (pd.Dataframe): df as defined at the top of the notebook\n",
    "\n",
    "    Returns:\n",
    "        top_articles (list): A list of the top 'n' article titles\n",
    "\n",
    "    \"\"\"\n",
    "    #df = df.drop_duplicates(subset = 'user_id')\n",
    "    df_top_n = df.groupby(['article_id'])\\\n",
    "        .count().sort_values(['title'], ascending = False).head(n)\n",
    "    top_articles_ids = list(df_top_n.index)\n",
    "\n",
    "    return top_articles_ids"
   ]
  },
  {
   "cell_type": "code",
   "execution_count": 323,
   "metadata": {
    "collapsed": true
   },
   "outputs": [
    {
     "name": "stdout",
     "output_type": "stream",
     "text": [
      "['healthcare python streaming application demo', 'use deep learning for image classification', 'apache spark lab, part 1: basic concepts', 'predicting churn with the spss random tree algorithm', 'analyze energy consumption in buildings', 'visualize car data with brunel', 'use xgboost, scikit-learn & ibm watson machine learning apis', 'gosales transactions for logistic regression model', 'insights from new york car accident reports', 'finding optimal locations of new store using decision optimization']\n",
      "[1429.0, 1330.0, 1431.0, 1427.0, 1364.0, 1314.0, 1293.0, 1170.0, 1162.0, 1304.0]\n"
     ]
    }
   ],
   "source": [
    "print(get_top_articles(10))\n",
    "print(get_top_article_ids(10))"
   ]
  },
  {
   "cell_type": "code",
   "execution_count": 324,
   "metadata": {
    "pycharm": {
     "name": "#%%\n"
    }
   },
   "outputs": [
    {
     "data": {
      "text/plain": "            title  user_id\narticle_id                \n1429.0        937      937\n1330.0        927      927\n1431.0        671      671\n1427.0        643      643\n1364.0        627      627\n1314.0        614      614\n1293.0        572      572\n1170.0        565      565\n1162.0        512      512\n1304.0        483      483",
      "text/html": "<div>\n<style scoped>\n    .dataframe tbody tr th:only-of-type {\n        vertical-align: middle;\n    }\n\n    .dataframe tbody tr th {\n        vertical-align: top;\n    }\n\n    .dataframe thead th {\n        text-align: right;\n    }\n</style>\n<table border=\"1\" class=\"dataframe\">\n  <thead>\n    <tr style=\"text-align: right;\">\n      <th></th>\n      <th>title</th>\n      <th>user_id</th>\n    </tr>\n    <tr>\n      <th>article_id</th>\n      <th></th>\n      <th></th>\n    </tr>\n  </thead>\n  <tbody>\n    <tr>\n      <th>1429.0</th>\n      <td>937</td>\n      <td>937</td>\n    </tr>\n    <tr>\n      <th>1330.0</th>\n      <td>927</td>\n      <td>927</td>\n    </tr>\n    <tr>\n      <th>1431.0</th>\n      <td>671</td>\n      <td>671</td>\n    </tr>\n    <tr>\n      <th>1427.0</th>\n      <td>643</td>\n      <td>643</td>\n    </tr>\n    <tr>\n      <th>1364.0</th>\n      <td>627</td>\n      <td>627</td>\n    </tr>\n    <tr>\n      <th>1314.0</th>\n      <td>614</td>\n      <td>614</td>\n    </tr>\n    <tr>\n      <th>1293.0</th>\n      <td>572</td>\n      <td>572</td>\n    </tr>\n    <tr>\n      <th>1170.0</th>\n      <td>565</td>\n      <td>565</td>\n    </tr>\n    <tr>\n      <th>1162.0</th>\n      <td>512</td>\n      <td>512</td>\n    </tr>\n    <tr>\n      <th>1304.0</th>\n      <td>483</td>\n      <td>483</td>\n    </tr>\n  </tbody>\n</table>\n</div>"
     },
     "execution_count": 324,
     "metadata": {},
     "output_type": "execute_result"
    }
   ],
   "source": [
    "df_top_n = df.groupby(['article_id'])\\\n",
    "    .count().sort_values(['title'], ascending = False).head(10)\n",
    "df_top_n"
   ]
  },
  {
   "cell_type": "code",
   "execution_count": 325,
   "metadata": {
    "collapsed": true
   },
   "outputs": [
    {
     "name": "stdout",
     "output_type": "stream",
     "text": [
      "Your top_5 looks like the solution list! Nice job.\n",
      "Your top_10 looks like the solution list! Nice job.\n",
      "Your top_20 looks like the solution list! Nice job.\n"
     ]
    }
   ],
   "source": [
    "# Test your function by returning the top 5, 10, and 20 articles\n",
    "top_5 = get_top_articles(5)\n",
    "top_10 = get_top_articles(10)\n",
    "top_20 = get_top_articles(20)\n",
    "\n",
    "# Test each of your three lists from above\n",
    "t.sol_2_test(get_top_articles)"
   ]
  },
  {
   "cell_type": "markdown",
   "metadata": {},
   "source": [
    "<a class=\"anchor\" id=\"User-User\"></a>\n",
    "### Part III: User-User Based Collaborative Filtering\n",
    "\n",
    "`1.` Use the function below to reformat the **df** dataframe to be shaped with\n",
    "users as the rows and articles as the columns.\n",
    "\n",
    "* Each **user** should only appear in each **row** once.\n",
    "\n",
    "\n",
    "* Each **article** should only show up in one **column**.  \n",
    "\n",
    "\n",
    "* **If a user has interacted with an article, then place a 1 where the user-row\n",
    "meets for that article-column**.  It does not matter how many times a user has\n",
    "interacted with the article, all entries where a user has interacted with an\n",
    "article should be a 1.\n",
    "\n",
    "\n",
    "* **If a user has not interacted with an item, then place a zero where the\n",
    "user-row meets for that article-column**.\n",
    "\n",
    "Use the tests to make sure the basic structure of your matrix matches what is\n",
    "expected by the solution."
   ]
  },
  {
   "cell_type": "code",
   "execution_count": 326,
   "metadata": {
    "collapsed": true
   },
   "outputs": [],
   "source": [
    "def create_user_item_matrix(df):\n",
    "    \"\"\"\n",
    "    Return a matrix with user ids as rows and article ids on the columns with\n",
    "     1 values where a user interacted with an article and a 0 otherwise\n",
    "\n",
    "    Args:\n",
    "        df (pd.Dataframe) - pandas dataframe with article_id, title, user_id\n",
    "        columns\n",
    "\n",
    "    Returns:\n",
    "        user_item - user item matrix\n",
    "\n",
    "    \"\"\"\n",
    "    user_item = df.groupby(['user_id', 'article_id'])['article_id']\\\n",
    "        .count().unstack()\n",
    "    user_item = user_item.fillna(0)\n",
    "    for col in user_item.columns.values:\n",
    "        user_item[col] = user_item[col].apply(lambda x: x if x == 0 else 1)\n",
    "    return user_item\n",
    "\n",
    "user_item = create_user_item_matrix(df)"
   ]
  },
  {
   "cell_type": "code",
   "execution_count": 327,
   "metadata": {
    "pycharm": {
     "name": "#%%\n"
    }
   },
   "outputs": [
    {
     "data": {
      "text/plain": "article_id  0.0     2.0     4.0     8.0     9.0     12.0    14.0    15.0    \\\nuser_id                                                                      \n1              0.0     0.0     0.0     0.0     0.0     0.0     0.0     0.0   \n2              0.0     0.0     0.0     0.0     0.0     0.0     0.0     0.0   \n3              0.0     0.0     0.0     0.0     0.0     1.0     0.0     0.0   \n4              0.0     0.0     0.0     0.0     0.0     0.0     0.0     0.0   \n5              0.0     0.0     0.0     0.0     0.0     0.0     0.0     0.0   \n\narticle_id  16.0    18.0    ...  1434.0  1435.0  1436.0  1437.0  1439.0  \\\nuser_id                     ...                                           \n1              0.0     0.0  ...     0.0     0.0     1.0     0.0     1.0   \n2              0.0     0.0  ...     0.0     0.0     0.0     0.0     0.0   \n3              0.0     0.0  ...     0.0     0.0     1.0     0.0     0.0   \n4              0.0     0.0  ...     0.0     0.0     0.0     0.0     0.0   \n5              0.0     0.0  ...     0.0     0.0     0.0     0.0     0.0   \n\narticle_id  1440.0  1441.0  1442.0  1443.0  1444.0  \nuser_id                                             \n1              0.0     0.0     0.0     0.0     0.0  \n2              0.0     0.0     0.0     0.0     0.0  \n3              0.0     0.0     0.0     0.0     0.0  \n4              0.0     0.0     0.0     0.0     0.0  \n5              0.0     0.0     0.0     0.0     0.0  \n\n[5 rows x 714 columns]",
      "text/html": "<div>\n<style scoped>\n    .dataframe tbody tr th:only-of-type {\n        vertical-align: middle;\n    }\n\n    .dataframe tbody tr th {\n        vertical-align: top;\n    }\n\n    .dataframe thead th {\n        text-align: right;\n    }\n</style>\n<table border=\"1\" class=\"dataframe\">\n  <thead>\n    <tr style=\"text-align: right;\">\n      <th>article_id</th>\n      <th>0.0</th>\n      <th>2.0</th>\n      <th>4.0</th>\n      <th>8.0</th>\n      <th>9.0</th>\n      <th>12.0</th>\n      <th>14.0</th>\n      <th>15.0</th>\n      <th>16.0</th>\n      <th>18.0</th>\n      <th>...</th>\n      <th>1434.0</th>\n      <th>1435.0</th>\n      <th>1436.0</th>\n      <th>1437.0</th>\n      <th>1439.0</th>\n      <th>1440.0</th>\n      <th>1441.0</th>\n      <th>1442.0</th>\n      <th>1443.0</th>\n      <th>1444.0</th>\n    </tr>\n    <tr>\n      <th>user_id</th>\n      <th></th>\n      <th></th>\n      <th></th>\n      <th></th>\n      <th></th>\n      <th></th>\n      <th></th>\n      <th></th>\n      <th></th>\n      <th></th>\n      <th></th>\n      <th></th>\n      <th></th>\n      <th></th>\n      <th></th>\n      <th></th>\n      <th></th>\n      <th></th>\n      <th></th>\n      <th></th>\n      <th></th>\n    </tr>\n  </thead>\n  <tbody>\n    <tr>\n      <th>1</th>\n      <td>0.0</td>\n      <td>0.0</td>\n      <td>0.0</td>\n      <td>0.0</td>\n      <td>0.0</td>\n      <td>0.0</td>\n      <td>0.0</td>\n      <td>0.0</td>\n      <td>0.0</td>\n      <td>0.0</td>\n      <td>...</td>\n      <td>0.0</td>\n      <td>0.0</td>\n      <td>1.0</td>\n      <td>0.0</td>\n      <td>1.0</td>\n      <td>0.0</td>\n      <td>0.0</td>\n      <td>0.0</td>\n      <td>0.0</td>\n      <td>0.0</td>\n    </tr>\n    <tr>\n      <th>2</th>\n      <td>0.0</td>\n      <td>0.0</td>\n      <td>0.0</td>\n      <td>0.0</td>\n      <td>0.0</td>\n      <td>0.0</td>\n      <td>0.0</td>\n      <td>0.0</td>\n      <td>0.0</td>\n      <td>0.0</td>\n      <td>...</td>\n      <td>0.0</td>\n      <td>0.0</td>\n      <td>0.0</td>\n      <td>0.0</td>\n      <td>0.0</td>\n      <td>0.0</td>\n      <td>0.0</td>\n      <td>0.0</td>\n      <td>0.0</td>\n      <td>0.0</td>\n    </tr>\n    <tr>\n      <th>3</th>\n      <td>0.0</td>\n      <td>0.0</td>\n      <td>0.0</td>\n      <td>0.0</td>\n      <td>0.0</td>\n      <td>1.0</td>\n      <td>0.0</td>\n      <td>0.0</td>\n      <td>0.0</td>\n      <td>0.0</td>\n      <td>...</td>\n      <td>0.0</td>\n      <td>0.0</td>\n      <td>1.0</td>\n      <td>0.0</td>\n      <td>0.0</td>\n      <td>0.0</td>\n      <td>0.0</td>\n      <td>0.0</td>\n      <td>0.0</td>\n      <td>0.0</td>\n    </tr>\n    <tr>\n      <th>4</th>\n      <td>0.0</td>\n      <td>0.0</td>\n      <td>0.0</td>\n      <td>0.0</td>\n      <td>0.0</td>\n      <td>0.0</td>\n      <td>0.0</td>\n      <td>0.0</td>\n      <td>0.0</td>\n      <td>0.0</td>\n      <td>...</td>\n      <td>0.0</td>\n      <td>0.0</td>\n      <td>0.0</td>\n      <td>0.0</td>\n      <td>0.0</td>\n      <td>0.0</td>\n      <td>0.0</td>\n      <td>0.0</td>\n      <td>0.0</td>\n      <td>0.0</td>\n    </tr>\n    <tr>\n      <th>5</th>\n      <td>0.0</td>\n      <td>0.0</td>\n      <td>0.0</td>\n      <td>0.0</td>\n      <td>0.0</td>\n      <td>0.0</td>\n      <td>0.0</td>\n      <td>0.0</td>\n      <td>0.0</td>\n      <td>0.0</td>\n      <td>...</td>\n      <td>0.0</td>\n      <td>0.0</td>\n      <td>0.0</td>\n      <td>0.0</td>\n      <td>0.0</td>\n      <td>0.0</td>\n      <td>0.0</td>\n      <td>0.0</td>\n      <td>0.0</td>\n      <td>0.0</td>\n    </tr>\n  </tbody>\n</table>\n<p>5 rows × 714 columns</p>\n</div>"
     },
     "execution_count": 327,
     "metadata": {},
     "output_type": "execute_result"
    }
   ],
   "source": [
    "user_item.head()"
   ]
  },
  {
   "cell_type": "code",
   "execution_count": 328,
   "metadata": {
    "collapsed": true
   },
   "outputs": [
    {
     "name": "stdout",
     "output_type": "stream",
     "text": [
      "You have passed our quick tests!  Please proceed!\n"
     ]
    }
   ],
   "source": [
    "## Tests: You should just need to run this cell.  Don't change the code.\n",
    "assert user_item.shape[0] == 5149, \"Oops!  The number of users in the \" \\\n",
    "                                   \"user-article matrix doesn't look right.\"\n",
    "assert user_item.shape[1] == 714, \"Oops!  The number of articles in the \" \\\n",
    "                                  \"user-article matrix doesn't look right.\"\n",
    "assert user_item.sum(axis=1)[1] == 36, \"Oops!  The number of articles seen by \"\\\n",
    "                                       \"user 1 doesn't look right.\"\n",
    "print(\"You have passed our quick tests!  Please proceed!\")"
   ]
  },
  {
   "cell_type": "markdown",
   "metadata": {},
   "source": [
    "`2.` Complete the function below which should take a user_id and provide an\n",
    "ordered list of the most similar users to that user (from most similar to least\n",
    "similar).  The returned result should not contain the provided user_id, as we\n",
    "know that each user is similar to him/herself. Because the results for each user\n",
    " here are binary, it (perhaps) makes sense to compute similarity as the dot\n",
    " product of two users.\n",
    "\n",
    "Use the tests to test your function."
   ]
  },
  {
   "cell_type": "code",
   "execution_count": 329,
   "metadata": {
    "collapsed": true
   },
   "outputs": [],
   "source": [
    "def find_similar_users(user_id, user_item = user_item):\n",
    "    \"\"\"\n",
    "    Computes the similarity of every pair of users based on the dot product\n",
    "    Returns an ordered\n",
    "\n",
    "    Args:\n",
    "        user_id (int): a user_id\n",
    "        user_item (pd.Dataframe): matrix of users by articles:\n",
    "                1's when a user has interacted with an article, 0 otherwise\n",
    "\n",
    "    Returns:\n",
    "        similar_users (list): an ordered list where the closest users (largest\n",
    "        dot product users) are listed first\n",
    "\n",
    "    \"\"\"\n",
    "    # compute similarity of each user to the provided user\n",
    "    user_sim = np.dot(user_item,user_item.T)\n",
    "    index = range(1, user_sim.shape[0]+1)\n",
    "\n",
    "    # Fill similarity dataframe\n",
    "    user_sim = pd.DataFrame(user_sim, index = index, columns = index)\n",
    "    user_sim = user_sim.loc[user_id,]\n",
    "    user_sim = user_sim.drop(user_id)\n",
    "\n",
    "    # Identify most similar user\n",
    "    most_similar_users = user_sim.sort_values(ascending = False).index.tolist()\n",
    "\n",
    "    return most_similar_users # return a list of the users in order from most to\n",
    "    # least similar"
   ]
  },
  {
   "cell_type": "code",
   "execution_count": 330,
   "metadata": {
    "collapsed": true
   },
   "outputs": [
    {
     "name": "stdout",
     "output_type": "stream",
     "text": [
      "The 10 most similar users to user 1 are: [3933, 23, 3782, 203, 4459, 3870, 131, 4201, 46, 3697]\n",
      "The 5 most similar users to user 3933 are: [1, 3782, 23, 203, 4459]\n",
      "The 3 most similar users to user 46 are: [4201, 3782, 23]\n"
     ]
    }
   ],
   "source": [
    "print(f\"The 10 most similar users to user 1 are: {find_similar_users(1)[:10]}\" )\n",
    "print(f\"The 5 most similar users to user 3933 are: {find_similar_users(3933)[:5]}\" )\n",
    "print(f\"The 3 most similar users to user 46 are: {find_similar_users(46)[:3]}\" )"
   ]
  },
  {
   "cell_type": "markdown",
   "metadata": {},
   "source": [
    "`3.` Now that you have a function that provides the most similar users to each\n",
    "user, you will want to use these users to find articles you can recommend.\n",
    "Complete the functions below to return the articles you would recommend to each\n",
    "user."
   ]
  },
  {
   "cell_type": "code",
   "execution_count": 331,
   "metadata": {
    "collapsed": true
   },
   "outputs": [],
   "source": [
    "def get_article_names(article_ids, df = df):\n",
    "    \"\"\"\n",
    "    This function returns a list of article names associated with the list of\n",
    "     article ids\n",
    "\n",
    "    Args:\n",
    "        article_ids (list): a list of article ids\n",
    "        df (pd.Dataframe): df as defined at the top of the notebook\n",
    "\n",
    "    Returns:\n",
    "        article_names (list): a list of article names associated with the\n",
    "        list of article ids (this is identified by the title column)\n",
    "    \"\"\"\n",
    "    article_names = list(df.loc[df['article_id']\n",
    "                         .isin(article_ids),'title'].unique())\n",
    "    return article_names # Return the article names associated with list of\n",
    "    # article ids\n",
    "\n",
    "\n",
    "def get_user_articles(user_id, user_item = user_item):\n",
    "    \"\"\"\n",
    "    Provides a list of the article_ids and article titles that have been seen by\n",
    "    a user\n",
    "\n",
    "    Args:\n",
    "        user_id (int): a user id\n",
    "        user_item (pd.Dataframe): matrix of users by articles: 1's when a user\n",
    "        has interacted with an article, 0 otherwise\n",
    "\n",
    "    Returns:\n",
    "        article_ids (list): a list of the article ids seen by the user\n",
    "        article_names (list): a list of article names associated with the\n",
    "        list of article ids (this is identified by the doc_full_name column\n",
    "        in df_content)\n",
    "\n",
    "    \"\"\"\n",
    "    article_ids = user_item.columns.values[list(user_item.loc[user_id,] == 1)]\n",
    "    article_ids = article_ids.astype(str)\n",
    "    article_names = get_article_names(article_ids)\n",
    "    return article_ids, article_names\n",
    "\n",
    "\n",
    "def user_user_recs(user_id, m=10):\n",
    "    \"\"\"\n",
    "    Loops through the users based on closeness to the input user_id\n",
    "    For each user - finds articles the user hasn't seen before and provides them\n",
    "     as recs, does this until m recommendations are found\n",
    "\n",
    "    Notes:\n",
    "    Users who are the same closeness are chosen arbitrarily as the 'next' user\n",
    "    For the user where the number of recommended articles starts below m\n",
    "    and ends exceeding m, the last items are chosen arbitrarily\n",
    "\n",
    "    Args:\n",
    "        user_id (int): a user id\n",
    "        m (int): the number of recommendations you want for the user\n",
    "\n",
    "    Returns:\n",
    "        recs (list): a list of recommendations for the user\n",
    "\n",
    "    \"\"\"\n",
    "    most_similar_users = find_similar_users(user_id, user_item = user_item)\n",
    "    user_article_ids, user_article_names = get_user_articles(user_id)\n",
    "    recs = list()\n",
    "    for similar_user_id in most_similar_users:\n",
    "        if len(recs)<m:\n",
    "            similar_article_ids, similar_article_names = \\\n",
    "                get_user_articles(similar_user_id)\n",
    "            new_recs = np.setdiff1d(similar_article_ids, user_article_ids,\n",
    "                                    assume_unique = True)\n",
    "            recs.append(new_recs)\n",
    "            recs = [item for sublist in recs for item in sublist]\n",
    "        else:\n",
    "            break\n",
    "\n",
    "    recs = recs[:m]\n",
    "    return recs"
   ]
  },
  {
   "cell_type": "code",
   "execution_count": 332,
   "metadata": {
    "collapsed": true
   },
   "outputs": [
    {
     "data": {
      "text/plain": "['got zip code data? prep it for analytics. – ibm watson data lab – medium',\n 'timeseries data analysis of iot events by using jupyter notebook',\n 'graph-based machine learning',\n 'using brunel in ipython/jupyter notebooks',\n 'experience iot with coursera',\n 'the 3 kinds of context: machine learning and the art of the frame',\n 'deep forest: towards an alternative to deep neural networks',\n 'this week in data science (april 18, 2017)',\n 'higher-order logistic regression for large datasets',\n 'using machine learning to predict parking difficulty']"
     },
     "execution_count": 332,
     "metadata": {},
     "output_type": "execute_result"
    }
   ],
   "source": [
    "# Check Results\n",
    "get_article_names(user_user_recs(1, 10))"
   ]
  },
  {
   "cell_type": "code",
   "execution_count": 333,
   "metadata": {
    "collapsed": true
   },
   "outputs": [
    {
     "name": "stdout",
     "output_type": "stream",
     "text": [
      "If this is all you see, you passed all of our tests!  Nice job!\n"
     ]
    }
   ],
   "source": [
    "# Test your functions here - No need to change this code - just run this cell\n",
    "assert set(get_article_names(['1024.0', '1176.0', '1305.0', '1314.0', '1422.0', '1427.0'])) == set(['using deep learning to reconstruct high-resolution audio', 'build a python app on the streaming analytics service', 'gosales transactions for naive bayes model', 'healthcare python streaming application demo', 'use r dataframes & ibm watson natural language understanding', 'use xgboost, scikit-learn & ibm watson machine learning apis']), \"Oops! Your the get_article_names function doesn't work quite how we expect.\"\n",
    "assert set(get_article_names(['1320.0', '232.0', '844.0'])) == set(['housing (2015): united states demographic measures','self-service data preparation with ibm data refinery','use the cloudant-spark connector in python notebook']), \"Oops! Your the get_article_names function doesn't work quite how we expect.\"\n",
    "assert set(get_user_articles(20)[0]) == set(['1320.0', '232.0', '844.0'])\n",
    "assert set(get_user_articles(20)[1]) == set(['housing (2015): united states demographic measures', 'self-service data preparation with ibm data refinery','use the cloudant-spark connector in python notebook'])\n",
    "assert set(get_user_articles(2)[0]) == set(['1024.0', '1176.0', '1305.0', '1314.0', '1422.0', '1427.0'])\n",
    "assert set(get_user_articles(2)[1]) == set(['using deep learning to reconstruct high-resolution audio', 'build a python app on the streaming analytics service', 'gosales transactions for naive bayes model', 'healthcare python streaming application demo', 'use r dataframes & ibm watson natural language understanding', 'use xgboost, scikit-learn & ibm watson machine learning apis'])\n",
    "print(\"If this is all you see, you passed all of our tests!  Nice job!\")"
   ]
  },
  {
   "cell_type": "markdown",
   "metadata": {},
   "source": [
    "`4.` Now we are going to improve the consistency of the **user_user_recs**\n",
    "function from above.\n",
    "\n",
    "* Instead of arbitrarily choosing when we obtain users who are all the same\n",
    "closeness to a given user - choose the users that have the most total article\n",
    "interactions before choosing those with fewer article interactions.\n",
    "\n",
    "\n",
    "* Instead of arbitrarily choosing articles from the user where the number of\n",
    "recommended articles starts below m and ends exceeding m, choose articles with\n",
    "the articles with the most total interactions before choosing those with fewer\n",
    "total interactions. This ranking should be  what would be obtained from the\n",
    "**top_articles** function you wrote earlier."
   ]
  },
  {
   "cell_type": "code",
   "execution_count": 334,
   "metadata": {
    "collapsed": true
   },
   "outputs": [],
   "source": [
    "def get_top_sorted_users(user_id, df = df, user_item = user_item):\n",
    "    \"\"\"\n",
    "    This function sort the neighbors_df by the similarity and then by number of\n",
    "    interactions where highest of each is higher in the dataframe\n",
    "\n",
    "    Args:\n",
    "        user_id (int): User ID\n",
    "        df (pd.Dataframe): df as defined at the top of the notebook\n",
    "        user_item (pd.Dataframe): matrix of users by articles: 1's when a\n",
    "        user has interacted with an article, 0 otherwise\n",
    "\n",
    "    Returns:\n",
    "    neighbors_df - (pd.Dataframe) a dataframe with:\n",
    "        neighbor_id - is a neighbor user_id\n",
    "        similarity - measure of the similarity of each user to the provided\n",
    "        user_id\n",
    "        num_interactions - the number of articles viewed by the user - if a u\n",
    "\n",
    "    \"\"\"\n",
    "    # Initialize dataframe\n",
    "    neighbors_df = pd.DataFrame(columns = ['neighbor_id','similarity',\n",
    "                                        'num_interactions'])\n",
    "\n",
    "    # Compute user similarity\n",
    "    user_sim = np.dot(user_item,user_item.T)\n",
    "    user_simm = find_similar_users(user_id)\n",
    "\n",
    "    # delete input user from neighbors list\n",
    "    index = range(1, user_sim.shape[0]+1)\n",
    "    user_sim = pd.DataFrame(user_sim, index = index, columns = index)\n",
    "    user_sim = user_sim.loc[user_id]\n",
    "    user_sim = user_sim.drop(user_id)\n",
    "\n",
    "    # Fill output dataframe\n",
    "    neighbors_df.neighbor_id = user_sim.index\n",
    "    neighbors_df.index = user_sim.index\n",
    "    neighbors_df.similarity = user_sim\n",
    "    neighbors_df.num_interactions = df.groupby('user_id')\\\n",
    "        .count().sort_values('title', ascending=  False).drop(user_id)\n",
    "\n",
    "    # Return the dataframe specified in the doc_string\n",
    "    return neighbors_df.sort_values(by=['similarity','num_interactions'],\n",
    "                                    ascending = False)\n",
    "\n",
    "\n",
    "def user_user_recs_part2(user_id, m = 10, n_articles = unique_articles):\n",
    "    \"\"\"\n",
    "    Loops through the users based on closeness to the input user_id\n",
    "    For each user - finds articles the user hasn't seen before and provides them\n",
    "    as recs, does this until m recommendations are found\n",
    "\n",
    "    Notes:\n",
    "    * Choose the users that have the most total article interactions\n",
    "    before choosing those with fewer article interactions.\n",
    "\n",
    "    * Choose articles with the articles with the most total interactions\n",
    "    before choosing those with fewer total interactions.\n",
    "\n",
    "    Args:\n",
    "        user_id (int): User ID\n",
    "        m (int): the number of recommendations you want for the user\n",
    "\n",
    "    Returns:\n",
    "        recs (list): a list of recommendations for the user by article id\n",
    "        rec_names (list): a list of recommendations for the user by article\n",
    "         title\n",
    "\n",
    "    \"\"\"\n",
    "    top_articles = get_top_article_ids(n_articles)\n",
    "    top_sorted_users_df = get_top_sorted_users(user_id, user_item = user_item)\n",
    "    user_article_ids, user_article_names = get_user_articles(user_id)\n",
    "    user_article_ids = user_article_ids.astype(np.float)\n",
    "    recs = np.array([])\n",
    "\n",
    "    for sorted_user_id in top_sorted_users_df['neighbor_id']:\n",
    "        if len(recs)<m:\n",
    "            similar_article_ids, similar_article_names = \\\n",
    "                get_user_articles(sorted_user_id)\n",
    "\n",
    "            new_recs = np.setdiff1d(similar_article_ids, user_article_ids,\n",
    "                                    assume_unique = True)\n",
    "            new_recs = np.intersect1d(top_articles,new_recs)\n",
    "            recs = np.append(recs,new_recs)\n",
    "            recs = np.unique(recs)\n",
    "            #recs = [item for sublist in recs for item in sublist]\n",
    "        else:\n",
    "            break\n",
    "\n",
    "    recs = recs[:m]\n",
    "    rec_names = get_article_names(recs)\n",
    "    \n",
    "    return recs, rec_names"
   ]
  },
  {
   "cell_type": "code",
   "execution_count": 335,
   "metadata": {
    "collapsed": true
   },
   "outputs": [
    {
     "name": "stdout",
     "output_type": "stream",
     "text": [
      "The top 10 recommendations for user 20 are the following article ids:\n",
      "['1024.0' '1085.0' '109.0' '1150.0' '1151.0' '1152.0' '1153.0' '1154.0'\n",
      " '1157.0' '1160.0']\n",
      "\n",
      "The top 10 recommendations for user 20 are the following article names:\n",
      "['airbnb data for analytics: washington d.c. listings', 'analyze accident reports on amazon emr spark', 'tensorflow quick tips', 'airbnb data for analytics: venice listings', 'airbnb data for analytics: venice calendar', 'airbnb data for analytics: venice reviews', 'using deep learning to reconstruct high-resolution audio', 'airbnb data for analytics: vienna listings', 'airbnb data for analytics: vienna calendar', 'airbnb data for analytics: chicago listings']\n"
     ]
    },
    {
     "name": "stderr",
     "output_type": "stream",
     "text": [
      "C:\\Users\\ayush\\anaconda3\\lib\\site-packages\\numpy\\lib\\arraysetops.py:564: FutureWarning: elementwise comparison failed; returning scalar instead, but in the future will perform elementwise comparison\n",
      "  mask &= (ar1 != a)\n"
     ]
    }
   ],
   "source": [
    "# Quick spot check - don't change this code - just use it to test your functions\n",
    "rec_ids, rec_names = user_user_recs_part2(20, m=10)\n",
    "print(\"The top 10 recommendations for user 20 are the following article ids:\")\n",
    "print(rec_ids)\n",
    "print()\n",
    "print(\"The top 10 recommendations for user 20 are the following article names:\")\n",
    "print(rec_names)"
   ]
  },
  {
   "cell_type": "markdown",
   "metadata": {},
   "source": [
    "`5.` Use your functions from above to correctly fill in the solutions to the\n",
    "dictionary below.  Then test your dictionary against the solution.\n",
    "Provide the code you need to answer each following the comments below."
   ]
  },
  {
   "cell_type": "code",
   "execution_count": 336,
   "metadata": {
    "collapsed": true
   },
   "outputs": [],
   "source": [
    "user1_most_sim = get_top_sorted_users(1)['neighbor_id'].iloc[0]\n",
    "user131_10th_sim = get_top_sorted_users(131)['neighbor_id'].iloc[9]"
   ]
  },
  {
   "cell_type": "code",
   "execution_count": 337,
   "metadata": {
    "collapsed": true
   },
   "outputs": [
    {
     "name": "stdout",
     "output_type": "stream",
     "text": [
      "Solution: 3933 \t model: 3933\n",
      "Solution: 242 \t model: 242\n"
     ]
    }
   ],
   "source": [
    "print(f'Solution: 3933 \\t model: {user1_most_sim}')\n",
    "print(f'Solution: 242 \\t model: {user131_10th_sim}')"
   ]
  },
  {
   "cell_type": "code",
   "execution_count": 338,
   "metadata": {
    "pycharm": {
     "name": "#%%\n"
    }
   },
   "outputs": [
    {
     "name": "stdout",
     "output_type": "stream",
     "text": [
      "This all looks good!  Nice job!\n"
     ]
    }
   ],
   "source": [
    "## Dictionary Test Here\n",
    "sol_5_dict = {\n",
    "    'The user that is most similar to user 1.': user1_most_sim,\n",
    "    'The user that is the 10th most similar to user 131': user131_10th_sim,\n",
    "}\n",
    "\n",
    "t.sol_5_test(sol_5_dict)"
   ]
  },
  {
   "cell_type": "markdown",
   "metadata": {},
   "source": [
    "`6.` If we were given a new user, which of the above functions would you be able\n",
    "to use to make recommendations?  Explain.  Can you think of a better way we\n",
    "might make recommendations?  Use the cell below to explain a better method for\n",
    "new users."
   ]
  },
  {
   "cell_type": "markdown",
   "metadata": {},
   "source": [
    "Using the functions developed so far, I can use the function\n",
    "**get_top_article_ids()**, so that the new user receive the top 10 of the\n",
    "most interacted articles among the whole user base. However, it is not the\n",
    "best option, since we are providing a list of the most viewed articles by the\n",
    "whole community. It does not mean that they are the most interesting for that\n",
    "specific user, it is just a general indication. **get_top_articles()** could\n",
    "also pass as a good recommendation\n",
    "\n",
    "Another solution can be the use of a knowledge based or content based\n",
    "recommendation engines to solve the cold start problem, as suggested during the\n",
    "lectures about Recommendation Engines."
   ]
  },
  {
   "cell_type": "markdown",
   "metadata": {},
   "source": [
    "`7.` Using your existing functions, provide the top 10 recommended articles you\n",
    "would provide for the a new user below.  You can test your function against our\n",
    "thoughts to make sure we are all on the same page with how we might make a\n",
    "recommendation."
   ]
  },
  {
   "cell_type": "code",
   "execution_count": 339,
   "metadata": {
    "collapsed": true
   },
   "outputs": [
    {
     "name": "stdout",
     "output_type": "stream",
     "text": [
      "[1429.0, 1330.0, 1431.0, 1427.0, 1364.0, 1314.0, 1293.0, 1170.0, 1162.0, 1304.0]\n"
     ]
    }
   ],
   "source": [
    "new_user = '0.0'\n",
    "\n",
    "# What would your recommendations be for this new user '0.0'?  As a new user,\n",
    "# they have no observed articles.\n",
    "# Provide a list of the top 10 article ids you would give to \n",
    "new_user_recs = get_top_article_ids(10)\n",
    "\n",
    "print(get_top_article_ids(10))"
   ]
  },
  {
   "cell_type": "code",
   "execution_count": 340,
   "metadata": {
    "collapsed": true
   },
   "outputs": [
    {
     "name": "stdout",
     "output_type": "stream",
     "text": [
      "That's right! Nice job!\n"
     ]
    }
   ],
   "source": [
    "assert set(new_user_recs) == set([1429.0, 1330.0, 1431.0, 1427.0, 1364.0, 1314.0, 1293.0, 1170.0, 1162.0, 1304.0]), \"Oops!  It makes sense that in this case we would want to recommend the most popular articles, because we don't know anything about these users.\"\n",
    "\n",
    "print(\"That's right! Nice job!\")"
   ]
  },
  {
   "cell_type": "markdown",
   "metadata": {},
   "source": [
    "<a class=\"anchor\" id=\"Content-Recs\"></a>\n",
    "### Part IV: Content Based Recommendations (EXTRA - NOT REQUIRED)\n",
    "\n",
    "Another method we might use to make recommendations is to perform a ranking of\n",
    "the highest ranked articles associated with some term.  You might consider\n",
    "content to be the **doc_body**, **doc_description**, or **doc_full_name**.\n",
    "There isn't one way to create a content based recommendation, especially\n",
    "considering that each of these columns hold content related information.\n",
    "\n",
    "`1.` Use the function body below to create a content based recommender. Since\n",
    "there isn't one right answer for this recommendation tactic, no test functions\n",
    "are provided.  Feel free to change the function inputs if you decide you want to\n",
    "try a method that requires more input values.  The input values are currently\n",
    "set with one idea in mind that you may use to make content based recommendations\n",
    "One additional idea is that you might want to choose the most popular\n",
    "recommendations that meet your 'content criteria', but again, there is a lot of\n",
    "flexibility in how you might make these recommendations.\n",
    "\n",
    "### This part is NOT REQUIRED to pass this project.  However, you may choose to\n",
    "take this on as an extra way to show off your skills."
   ]
  },
  {
   "cell_type": "code",
   "execution_count": 341,
   "metadata": {
    "collapsed": true
   },
   "outputs": [],
   "source": [
    "def make_content_recs():\n",
    "    \"\"\"\n",
    "\n",
    "\n",
    "    Args:\n",
    "\n",
    "    Returns:\n",
    "\n",
    "    \"\"\""
   ]
  },
  {
   "cell_type": "markdown",
   "metadata": {},
   "source": [
    "`2.` Now that you have put together your content-based recommendation system,\n",
    "use the cell below to write a summary explaining how your content based\n",
    "recommender works.  Do you see any possible improvements that could be made to\n",
    "your function?  Is there anything novel about your content based recommender?\n",
    "\n",
    "### This part is NOT REQUIRED to pass this project.  However, you may choose to\n",
    "take this on as an extra way to show off your skills."
   ]
  },
  {
   "cell_type": "markdown",
   "metadata": {},
   "source": [
    "**Write an explanation of your content based recommendation system here.**"
   ]
  },
  {
   "cell_type": "markdown",
   "metadata": {},
   "source": [
    "`3.` Use your content-recommendation system to make recommendations for the\n",
    "below scenarios based on the comments.  Again no tests are provided here,\n",
    "because there isn't one right answer that could be used to find these content\n",
    "based recommendations.\n",
    "\n",
    "### This part is NOT REQUIRED to pass this project.  However, you may choose to\n",
    "take this on as an extra way to show off your skills."
   ]
  },
  {
   "cell_type": "code",
   "execution_count": 342,
   "metadata": {
    "collapsed": true
   },
   "outputs": [],
   "source": [
    "# make recommendations for a brand new user\n",
    "\n",
    "\n",
    "# make a recommendations for a user who only has interacted with article id\n",
    "# '1427.0'\n"
   ]
  },
  {
   "cell_type": "markdown",
   "metadata": {},
   "source": [
    "<a class=\"anchor\" id=\"Matrix-Fact\"></a>\n",
    "### Part V: Matrix Factorization\n",
    "\n",
    "In this part of the notebook, you will build use matrix factorization to make\n",
    "article recommendations to the users on the IBM Watson Studio platform.\n",
    "\n",
    "`1.` You should have already created a **user_item** matrix above in\n",
    "**question 1** of **Part III** above.  This first question here will just\n",
    "require that you run the cells to get things set up for the rest of **Part V**\n",
    "of the notebook."
   ]
  },
  {
   "cell_type": "code",
   "execution_count": 343,
   "metadata": {
    "collapsed": true
   },
   "outputs": [],
   "source": [
    "# Load the matrix here\n",
    "user_item_matrix = pd.read_pickle('user_item_matrix.p')"
   ]
  },
  {
   "cell_type": "code",
   "execution_count": 344,
   "metadata": {
    "collapsed": true
   },
   "outputs": [
    {
     "data": {
      "text/plain": "article_id  0.0  100.0  1000.0  1004.0  1006.0  1008.0  101.0  1014.0  1015.0  \\\nuser_id                                                                         \n1           0.0    0.0     0.0     0.0     0.0     0.0    0.0     0.0     0.0   \n2           0.0    0.0     0.0     0.0     0.0     0.0    0.0     0.0     0.0   \n3           0.0    0.0     0.0     0.0     0.0     0.0    0.0     0.0     0.0   \n4           0.0    0.0     0.0     0.0     0.0     0.0    0.0     0.0     0.0   \n5           0.0    0.0     0.0     0.0     0.0     0.0    0.0     0.0     0.0   \n\narticle_id  1016.0  ...  977.0  98.0  981.0  984.0  985.0  986.0  990.0  \\\nuser_id             ...                                                   \n1              0.0  ...    0.0   0.0    1.0    0.0    0.0    0.0    0.0   \n2              0.0  ...    0.0   0.0    0.0    0.0    0.0    0.0    0.0   \n3              0.0  ...    1.0   0.0    0.0    0.0    0.0    0.0    0.0   \n4              0.0  ...    0.0   0.0    0.0    0.0    0.0    0.0    0.0   \n5              0.0  ...    0.0   0.0    0.0    0.0    0.0    0.0    0.0   \n\narticle_id  993.0  996.0  997.0  \nuser_id                          \n1             0.0    0.0    0.0  \n2             0.0    0.0    0.0  \n3             0.0    0.0    0.0  \n4             0.0    0.0    0.0  \n5             0.0    0.0    0.0  \n\n[5 rows x 714 columns]",
      "text/html": "<div>\n<style scoped>\n    .dataframe tbody tr th:only-of-type {\n        vertical-align: middle;\n    }\n\n    .dataframe tbody tr th {\n        vertical-align: top;\n    }\n\n    .dataframe thead th {\n        text-align: right;\n    }\n</style>\n<table border=\"1\" class=\"dataframe\">\n  <thead>\n    <tr style=\"text-align: right;\">\n      <th>article_id</th>\n      <th>0.0</th>\n      <th>100.0</th>\n      <th>1000.0</th>\n      <th>1004.0</th>\n      <th>1006.0</th>\n      <th>1008.0</th>\n      <th>101.0</th>\n      <th>1014.0</th>\n      <th>1015.0</th>\n      <th>1016.0</th>\n      <th>...</th>\n      <th>977.0</th>\n      <th>98.0</th>\n      <th>981.0</th>\n      <th>984.0</th>\n      <th>985.0</th>\n      <th>986.0</th>\n      <th>990.0</th>\n      <th>993.0</th>\n      <th>996.0</th>\n      <th>997.0</th>\n    </tr>\n    <tr>\n      <th>user_id</th>\n      <th></th>\n      <th></th>\n      <th></th>\n      <th></th>\n      <th></th>\n      <th></th>\n      <th></th>\n      <th></th>\n      <th></th>\n      <th></th>\n      <th></th>\n      <th></th>\n      <th></th>\n      <th></th>\n      <th></th>\n      <th></th>\n      <th></th>\n      <th></th>\n      <th></th>\n      <th></th>\n      <th></th>\n    </tr>\n  </thead>\n  <tbody>\n    <tr>\n      <th>1</th>\n      <td>0.0</td>\n      <td>0.0</td>\n      <td>0.0</td>\n      <td>0.0</td>\n      <td>0.0</td>\n      <td>0.0</td>\n      <td>0.0</td>\n      <td>0.0</td>\n      <td>0.0</td>\n      <td>0.0</td>\n      <td>...</td>\n      <td>0.0</td>\n      <td>0.0</td>\n      <td>1.0</td>\n      <td>0.0</td>\n      <td>0.0</td>\n      <td>0.0</td>\n      <td>0.0</td>\n      <td>0.0</td>\n      <td>0.0</td>\n      <td>0.0</td>\n    </tr>\n    <tr>\n      <th>2</th>\n      <td>0.0</td>\n      <td>0.0</td>\n      <td>0.0</td>\n      <td>0.0</td>\n      <td>0.0</td>\n      <td>0.0</td>\n      <td>0.0</td>\n      <td>0.0</td>\n      <td>0.0</td>\n      <td>0.0</td>\n      <td>...</td>\n      <td>0.0</td>\n      <td>0.0</td>\n      <td>0.0</td>\n      <td>0.0</td>\n      <td>0.0</td>\n      <td>0.0</td>\n      <td>0.0</td>\n      <td>0.0</td>\n      <td>0.0</td>\n      <td>0.0</td>\n    </tr>\n    <tr>\n      <th>3</th>\n      <td>0.0</td>\n      <td>0.0</td>\n      <td>0.0</td>\n      <td>0.0</td>\n      <td>0.0</td>\n      <td>0.0</td>\n      <td>0.0</td>\n      <td>0.0</td>\n      <td>0.0</td>\n      <td>0.0</td>\n      <td>...</td>\n      <td>1.0</td>\n      <td>0.0</td>\n      <td>0.0</td>\n      <td>0.0</td>\n      <td>0.0</td>\n      <td>0.0</td>\n      <td>0.0</td>\n      <td>0.0</td>\n      <td>0.0</td>\n      <td>0.0</td>\n    </tr>\n    <tr>\n      <th>4</th>\n      <td>0.0</td>\n      <td>0.0</td>\n      <td>0.0</td>\n      <td>0.0</td>\n      <td>0.0</td>\n      <td>0.0</td>\n      <td>0.0</td>\n      <td>0.0</td>\n      <td>0.0</td>\n      <td>0.0</td>\n      <td>...</td>\n      <td>0.0</td>\n      <td>0.0</td>\n      <td>0.0</td>\n      <td>0.0</td>\n      <td>0.0</td>\n      <td>0.0</td>\n      <td>0.0</td>\n      <td>0.0</td>\n      <td>0.0</td>\n      <td>0.0</td>\n    </tr>\n    <tr>\n      <th>5</th>\n      <td>0.0</td>\n      <td>0.0</td>\n      <td>0.0</td>\n      <td>0.0</td>\n      <td>0.0</td>\n      <td>0.0</td>\n      <td>0.0</td>\n      <td>0.0</td>\n      <td>0.0</td>\n      <td>0.0</td>\n      <td>...</td>\n      <td>0.0</td>\n      <td>0.0</td>\n      <td>0.0</td>\n      <td>0.0</td>\n      <td>0.0</td>\n      <td>0.0</td>\n      <td>0.0</td>\n      <td>0.0</td>\n      <td>0.0</td>\n      <td>0.0</td>\n    </tr>\n  </tbody>\n</table>\n<p>5 rows × 714 columns</p>\n</div>"
     },
     "execution_count": 344,
     "metadata": {},
     "output_type": "execute_result"
    }
   ],
   "source": [
    "# quick look at the matrix\n",
    "user_item_matrix.head()"
   ]
  },
  {
   "cell_type": "markdown",
   "metadata": {},
   "source": [
    "`2.` In this situation, you can use Singular Value Decomposition from\n",
    "[numpy](https://docs.scipy.org/doc/numpy-1.14.0/reference/generated/numpy.linalg.svd.html) on the user-item matrix.  Use the cell to perform SVD, and explain why this is different than in the lesson."
   ]
  },
  {
   "cell_type": "code",
   "execution_count": 345,
   "metadata": {
    "collapsed": true
   },
   "outputs": [],
   "source": [
    "# Perform SVD on the User-Item Matrix Here\n",
    "\n",
    "u, s, vt = np.linalg.svd(user_item_matrix)# use the built in to get the three\n",
    "# matrices"
   ]
  },
  {
   "cell_type": "markdown",
   "metadata": {},
   "source": [
    "The reason why we don't need FunkSVD is the absence of NaN in the\n",
    "user_item_matrix. During the lectures, user_item_matrix was made by user ratings\n",
    "In case of absence of rating, there was a NaN. For this reason, the matrix was\n",
    "very sparse and needed a different approach. In our case, the way we model\n",
    "user-item interactions is far simpler (0-1) and does not include the presence\n",
    " of NaNs."
   ]
  },
  {
   "cell_type": "markdown",
   "metadata": {},
   "source": [
    "`3.` Now for the tricky part, how do we choose the number of latent features to\n",
    "use?  Running the below cell, you can see that as the number of latent features\n",
    "increases, we obtain a lower error rate on making predictions for the 1 and 0\n",
    "values in the user-item matrix.  Run the cell below to get an idea of how the\n",
    "accuracy improves as we increase the number of latent features."
   ]
  },
  {
   "cell_type": "code",
   "execution_count": 346,
   "metadata": {
    "collapsed": true
   },
   "outputs": [
    {
     "data": {
      "text/plain": "<Figure size 432x288 with 1 Axes>",
      "image/png": "[encoded data removed]"
     },
     "metadata": {
      "needs_background": "light"
     },
     "output_type": "display_data"
    }
   ],
   "source": [
    "num_latent_feats = np.arange(10,700+10,20)\n",
    "sum_errs = []\n",
    "\n",
    "for k in num_latent_feats:\n",
    "    # restructure with k latent features\n",
    "    s_new, u_new, vt_new = np.diag(s[:k]), u[:, :k], vt[:k, :]\n",
    "    \n",
    "    # take dot product\n",
    "    user_item_est = np.around(np.dot(np.dot(u_new, s_new), vt_new))\n",
    "    \n",
    "    # compute error for each prediction to actual value\n",
    "    diffs = np.subtract(user_item_matrix, user_item_est)\n",
    "    \n",
    "    # total errors and keep track of them\n",
    "    err = np.sum(np.sum(np.abs(diffs)))\n",
    "    sum_errs.append(err)\n",
    "\n",
    "plt.plot(num_latent_feats, 1 - np.array(sum_errs)/df.shape[0])\n",
    "plt.xlabel('Number of Latent Features')\n",
    "plt.ylabel('Accuracy')\n",
    "plt.title('Accuracy vs. Number of Latent Features');"
   ]
  },
  {
   "cell_type": "markdown",
   "metadata": {},
   "source": [
    "`4.` From the above, we can't really be sure how many features to use, because\n",
    "simply having a better way to predict the 1's and 0's of the matrix doesn't\n",
    "exactly give us an indication of if we are able to make good recommendations.\n",
    "Instead, we might split our dataset into a training and test set of data, as\n",
    "shown in the cell below.\n",
    "\n",
    "Use the code from question 3 to understand the impact on accuracy of the\n",
    "training and test sets of data with different numbers of latent features. Using\n",
    "the split below:\n",
    "\n",
    "* How many users can we make predictions for in the test set?  \n",
    "* How many users are we not able to make predictions for because of the cold\n",
    "start problem?\n",
    "* How many articles can we make predictions for in the test set?  \n",
    "* How many articles are we not able to make predictions for because of the cold\n",
    "start problem?"
   ]
  },
  {
   "cell_type": "code",
   "execution_count": 347,
   "metadata": {
    "collapsed": true
   },
   "outputs": [],
   "source": [
    "df_train = df.head(40000)\n",
    "df_test = df.tail(5993)\n",
    "\n",
    "def create_test_and_train_user_item(df_train, df_test):\n",
    "    \"\"\"\n",
    "    Args:\n",
    "        df_train (pd.Dataframe): training dataframe\n",
    "        df_test (pd.Dataframe): test dataframe\n",
    "\n",
    "    Returns:\n",
    "        user_item_train : a user-item matrix of the training dataframe\n",
    "                      (unique users for each row and unique articles for each\n",
    "                      column)\n",
    "        user_item_test : a user-item matrix of the testing dataframe\n",
    "                    (unique users for each row and unique articles for each\n",
    "                    column)\n",
    "        test_idx : all of the test user ids\n",
    "        test_arts : all of the test article ids\n",
    "\n",
    "    \"\"\"\n",
    "    user_item_train = create_user_item_matrix(df_train)\n",
    "    user_item_test = create_user_item_matrix(df_test)\n",
    "\n",
    "    test_idx = user_item_test.index.values\n",
    "    test_arts = user_item_test.columns.values\n",
    "\n",
    "    return user_item_train, user_item_test, test_idx, test_arts\n",
    "\n",
    "user_item_train, user_item_test, test_idx, test_arts = \\\n",
    "    create_test_and_train_user_item(df_train, df_test)"
   ]
  },
  {
   "cell_type": "code",
   "execution_count": 348,
   "metadata": {
    "pycharm": {
     "name": "#%%\n"
    }
   },
   "outputs": [
    {
     "name": "stdout",
     "output_type": "stream",
     "text": [
      "Articles of the test set we can make predictions about\n",
      "574\n",
      "Articles of the test set we cant make predictions about\n",
      "0\n",
      "Users of the test set we can make predictions about\n",
      "20\n",
      "Users of the test set we cant make predictions about\n",
      "662\n"
     ]
    }
   ],
   "source": [
    "print('Articles of the test set we can make predictions about')\n",
    "print(len(np.intersect1d(df_train.article_id.unique(), df_test.article_id\n",
    "                         .unique())))\n",
    "\n",
    "print('Articles of the test set we cant make predictions about')\n",
    "print(len(df_test.article_id.unique()) -\n",
    "      len(np.intersect1d(df_train.article_id.unique(), df_test.article_id\n",
    "                         .unique())))\n",
    "\n",
    "print('Users of the test set we can make predictions about')\n",
    "print(len(np.intersect1d(df_train.user_id.unique(),df_test.user_id.unique())))\n",
    "\n",
    "print('Users of the test set we cant make predictions about')\n",
    "print(len(df_test.user_id.unique()) -\n",
    "      len(np.intersect1d(df_train.user_id.unique(), df_test.user_id.unique())))\n"
   ]
  },
  {
   "cell_type": "code",
   "execution_count": 349,
   "metadata": {
    "collapsed": true
   },
   "outputs": [
    {
     "name": "stdout",
     "output_type": "stream",
     "text": [
      "Awesome job!  That's right!  All of the test movies are in the training data, but there are only 20 test users that were also in the training set.  All of the other users that are in the test set we have no data on.  Therefore, we cannot make predictions for these users using SVD.\n"
     ]
    }
   ],
   "source": [
    "# Replace the values in the dictionary below\n",
    "a = 662 \n",
    "b = 574 \n",
    "c = 20 \n",
    "d = 0 \n",
    "\n",
    "sol_4_dict = {\n",
    "    'How many users can we make predictions for in the test set?': c,\n",
    "    'How many users in the test set are we not able to make predictions for '\n",
    "    'because of the cold start problem?': a,\n",
    "    'How many movies can we make predictions for in the test set?': b,\n",
    "    'How many movies in the test set are we not able to make predictions for '\n",
    "    'because of the cold start problem?': d\n",
    "}\n",
    "\n",
    "t.sol_4_test(sol_4_dict)"
   ]
  },
  {
   "cell_type": "markdown",
   "metadata": {},
   "source": [
    "`5.` Now use the **user_item_train** dataset from above to find U, S, and V\n",
    "transpose using SVD. Then find the subset of rows in the **user_item_test**\n",
    "dataset that you can predict using this matrix decomposition with different\n",
    "numbers of latent features to see how many features makes sense to keep based on\n",
    "the accuracy on the test data. This will require combining what was done in\n",
    "questions `2` - `4`.\n",
    "\n",
    "Use the cells below to explore how well SVD works towards making predictions for\n",
    "recommendations on the test data."
   ]
  },
  {
   "cell_type": "code",
   "execution_count": 350,
   "metadata": {
    "pycharm": {
     "name": "#%%\n"
    }
   },
   "outputs": [],
   "source": [
    "# Find train articles and user ids\n",
    "train_idx = np.array(user_item_train.index)\n",
    "train_arts = np.array(user_item_train.columns)\n",
    "\n",
    "# Find users and articles of the test set contained also in the training set\n",
    "test_user_subset = np.intersect1d(test_idx,train_idx)\n",
    "test_articles_subset = np.intersect1d(test_arts,train_arts)\n",
    "\n",
    "# Find the position (row,col) in the training matrix of the test subset\n",
    "# (user id, article id)\n",
    "train_indexes = np.where(np.in1d(train_idx, test_user_subset))[0]\n",
    "train_articles = np.where(np.in1d(train_arts, test_articles_subset))[0]\n",
    "\n",
    "# Find the position (row) in the test matrix of the test subset (user id)\n",
    "test_indexes = np.where(np.in1d(test_idx, test_user_subset))[0]"
   ]
  },
  {
   "cell_type": "code",
   "execution_count": 351,
   "metadata": {
    "collapsed": true
   },
   "outputs": [],
   "source": [
    "# fit SVD on the user_item_train matrix\n",
    "u_train, s_train, vt_train = np.linalg.svd(user_item_train)"
   ]
  },
  {
   "cell_type": "code",
   "execution_count": 352,
   "metadata": {
    "collapsed": true
   },
   "outputs": [],
   "source": [
    "# Find subset of user_item matrix containing only user and articles that are\n",
    "# shared by train and test set\n",
    "user_item_test_subset = user_item_test.iloc[test_indexes,:]\n",
    "user_item_train_subset = user_item_train.iloc[train_indexes,train_articles]"
   ]
  },
  {
   "cell_type": "code",
   "execution_count": 353,
   "metadata": {
    "collapsed": true
   },
   "outputs": [
    {
     "data": {
      "text/plain": "<Figure size 432x288 with 1 Axes>",
      "image/png": "[encoded data removed]"
     },
     "metadata": {
      "needs_background": "light"
     },
     "output_type": "display_data"
    }
   ],
   "source": [
    "num_latent_feats = np.arange(10,570,10)\n",
    "sum_errs = []\n",
    "\n",
    "for k in num_latent_feats:\n",
    "    # restructure with k latent features\n",
    "    s_train_k, u_train_k, vt_train_k = np.diag(s_train[:k]), u_train[:, :k], \\\n",
    "                                       vt_train[:k, :]\n",
    "\n",
    "    s_test_k, u_test_k, vt_test_k = s_train_k, u_train_k[train_indexes,:], \\\n",
    "                                    vt_train_k[:,train_articles]\n",
    "\n",
    "    # take dot product\n",
    "    user_item_test_subset_est = np.around(np.dot(np.dot(u_test_k, s_test_k),\n",
    "                                                 vt_test_k))\n",
    "\n",
    "    # compute error for each prediction to actual value\n",
    "    diffs = np.subtract(user_item_test_subset, user_item_test_subset_est)\n",
    "\n",
    "    # total errors and keep track of them\n",
    "    err = np.sum(np.sum(np.abs(diffs)))\n",
    "    sum_errs.append(err)\n",
    "\n",
    "\n",
    "n_interactions_subset = user_item_test_subset.shape[0] * \\\n",
    "                        user_item_test_subset.shape[1]\n",
    "\n",
    "plt.plot(num_latent_feats, 1 - np.array(sum_errs)/n_interactions_subset)\n",
    "plt.xlabel('Number of Latent Features')\n",
    "plt.ylabel('Accuracy')\n",
    "plt.title('Accuracy vs. Number of Latent Features');\n"
   ]
  },
  {
   "cell_type": "markdown",
   "metadata": {
    "collapsed": true
   },
   "source": [
    "`6.` Use the cell below to comment on the results you found in the previous\n",
    "question. Given the circumstances of your results, discuss what you might do to\n",
    "determine if the recommendations you make with any of the above recommendation\n",
    "systems are an improvement to how users currently find articles?"
   ]
  },
  {
   "cell_type": "markdown",
   "metadata": {},
   "source": [
    "<a class=\"anchor\" id=\"conclusions\"></a>\n",
    "## Results overview\n",
    "\n",
    "Previous results may be not significant in statistical terms, since just a few\n",
    "users (only 20) are shared among trainset and testset. Moreover, 1's and 0's\n",
    "represent an highly imbalanced problem and this fact explains the very high\n",
    "accuracy value.\n",
    "\n",
    "For this reason, a two-step roadmap is proposed to further develop this\n",
    "preliminary analysis and deploy the recommendation engine.\n",
    "\n",
    "### Experimental design\n",
    "\n",
    "A/B Test approach is a solid procedure to understand if the model brings real\n",
    "benefits.\n",
    "\n",
    "1. Cookie-based: A/B splitting allows to randomly assign a user to one of the\n",
    "two groups: one group uses the old homepage featuring suggestions for\n",
    "articles according to the \"old\" recommendation engine. The second group\n",
    "interacts with the same homepage featuring the new recommendation engine.\n",
    "\n",
    "2. Funnel: Independently from the group which each user is assigned to, we\n",
    "expect a user entering the homepage to follow this steps: 1) visit the homepage\n",
    "2) scroll the homepage looking for suggested articles 3) click on a particular\n",
    "article. In this scenario, we are not considering a user that wants to click\n",
    "on the search bar and input some keywords to find specific articles.\n",
    "\n",
    "3. Invariant Metric: If the assignment of users to the two homepages is truly\n",
    "random, we expect the number of cookies hitting the two homepages not to be\n",
    "significantly different. A proper statistical test must be performed to assess\n",
    "this point\n",
    "\n",
    "4. Evaluation Metric: A possible choice could be the ration\n",
    "\\#clicks-on-recommendations / #cookies. If our new recommendation system is\n",
    "actually better than the previous one, we expect an higher number of clicks\n",
    "on the recommended articles made by each user. Hence, the average number of\n",
    "clicks on recommendation per user in the experiment group must be greater\n",
    "than the control group value. Other choices are also possible, for instance\n",
    "\\#visits / #cookies, if we suppose that users of the experiment group are\n",
    "more willing to come back to the homepage to have more recommendations.\n",
    "Another one could be \\#clicks-on-recommendation / #clicks-on-searchbar, since\n",
    "we expect that each user now has less need to look for something particular\n",
    "in the searchbar of the website, since interesting articles are already\n",
    "suggested in the homepage. Both solutions could be good, but\n",
    "\\#clicks-on-recommendations / #cookies seems to be the most straightforward\n",
    "idea.\n",
    "\n",
    "5. Experiment Sizing: We need to understand which statistical test should be\n",
    "performed and how large the two groups must be to have, let's say, an\n",
    "appropriate significant level that guarantees a Type I error lower than 0.05.\n",
    "We need to combine this kind of analysis with the average number of visits per\n",
    "day to understand how long the experiment should be to meet statistical\n",
    "constraints. The duration of the experiment must be a reasonable amount of time\n",
    "for the owner of the website.\n",
    "\n",
    "6. Validity: Evaluation metric is aligned with our experiment goal - understand\n",
    "whether or not the new recommendation engine has better performance than the\n",
    "old one. The biggest assumption we make is that users are homogeneously\n",
    "distributed between control and experiment group. Compared to other scenarios,\n",
    "this seems to be not too difficult to obtain, because the users of a data\n",
    "science community website are a very particular audience, it is not such an\n",
    "heterogeneous group of people. In case of Netflix, many factors (age, location,\n",
    "sex, hour of the day...) are important to understand which kind of user is\n",
    "visiting the website, and the previous assumption is for sure more difficult\n",
    "to be proved.\n",
    "\n",
    "7. Bias: We don't expect sampling biases to arise, for the same reasons\n",
    "expressed in the previous bullet point: user population visiting this website\n",
    " can be pretty homogeneous. However, there could be some issues with novelty\n",
    " bias, since in the first days after signing up a user might visit the\n",
    " website more often than the regular frequency. If we have some previous\n",
    " analytics about this behaviour (let's say, the 3 days after sign up are\n",
    " always very different from the following period), we should take it into\n",
    " account (the experiment must be much longer than 3 days).\n",
    "\n",
    "8. Ethics: The change under-the-hood of the homepage should be benign to each\n",
    "user. Moreover, no particular personal data is required, just the\n",
    "user-article interaction. The usual message about cookie regulation must\n",
    "appear for each user as usual."
   ]
  },
  {
   "cell_type": "code",
   "execution_count": 354,
   "metadata": {
    "collapsed": true
   },
   "outputs": [
    {
     "data": {
      "text/plain": "1"
     },
     "execution_count": 354,
     "metadata": {},
     "output_type": "execute_result"
    }
   ],
   "source": [
    "from subprocess import call\n",
    "call(['python', '-m', 'nbconvert', 'Recommendations_with_IBM.ipynb'])"
   ]
  }
 ],
 "metadata": {
  "kernelspec": {
   "display_name": "Python 3.7.6 64-bit ('base': conda)",
   "language": "python",
   "name": "python37664bitbaseconda67530c51717b4ee0a97a2605318e5271"
  },
  "language_info": {
   "codemirror_mode": {
    "name": "ipython",
    "version": 3
   },
   "file_extension": ".py",
   "mimetype": "text/x-python",
   "name": "python",
   "nbconvert_exporter": "python",
   "pygments_lexer": "ipython3",
   "version": "3.7.6"
  }
 },
 "nbformat": 4,
 "nbformat_minor": 2
}